{
 "cells": [
  {
   "cell_type": "code",
   "execution_count": 1,
   "source": [
    "import pandas as pd\n",
    "import os\n",
    "import numpy as np\n",
    "import matplotlib.pyplot as plt\n",
    "from matplotlib import rc\n",
    "import seaborn as sns\n",
    "import networkx as net\n",
    "from bokeh.io import output_notebook, show, save\n",
    "plt.rc('text',usetex=True)\n",
    "\n",
    "cont = 0"
   ],
   "outputs": [],
   "metadata": {}
  },
  {
   "cell_type": "code",
   "execution_count": 2,
   "source": [
    "print(os.getcwd())\n",
    "print(os.listdir())"
   ],
   "outputs": [
    {
     "output_type": "stream",
     "name": "stdout",
     "text": [
      "/Users/barbem4/Desktop/Vandy/Bioinformatics/Second project\n",
      "['distribution plot with power law.png', 'distribution plot.png', '.DS_Store', 'PP-Pathways_ppi.xlsx', 'First graph.png', 'PP-Pathways_ppi.csv', 'Net analysis.ipynb', 'PP-Pathways_ppi.txt']\n"
     ]
    }
   ],
   "metadata": {}
  },
  {
   "cell_type": "code",
   "execution_count": 3,
   "source": [
    "df = pd.read_csv('PP-Pathways_ppi.csv')\n",
    "df\n"
   ],
   "outputs": [
    {
     "output_type": "execute_result",
     "data": {
      "text/html": [
       "<div>\n",
       "<style scoped>\n",
       "    .dataframe tbody tr th:only-of-type {\n",
       "        vertical-align: middle;\n",
       "    }\n",
       "\n",
       "    .dataframe tbody tr th {\n",
       "        vertical-align: top;\n",
       "    }\n",
       "\n",
       "    .dataframe thead th {\n",
       "        text-align: right;\n",
       "    }\n",
       "</style>\n",
       "<table border=\"1\" class=\"dataframe\">\n",
       "  <thead>\n",
       "    <tr style=\"text-align: right;\">\n",
       "      <th></th>\n",
       "      <th>1394</th>\n",
       "      <th>2778</th>\n",
       "    </tr>\n",
       "  </thead>\n",
       "  <tbody>\n",
       "    <tr>\n",
       "      <th>0</th>\n",
       "      <td>6331</td>\n",
       "      <td>17999</td>\n",
       "    </tr>\n",
       "    <tr>\n",
       "      <th>1</th>\n",
       "      <td>122704</td>\n",
       "      <td>54460</td>\n",
       "    </tr>\n",
       "    <tr>\n",
       "      <th>2</th>\n",
       "      <td>2597</td>\n",
       "      <td>2911</td>\n",
       "    </tr>\n",
       "    <tr>\n",
       "      <th>3</th>\n",
       "      <td>4790</td>\n",
       "      <td>79155</td>\n",
       "    </tr>\n",
       "    <tr>\n",
       "      <th>4</th>\n",
       "      <td>6146</td>\n",
       "      <td>101929876</td>\n",
       "    </tr>\n",
       "    <tr>\n",
       "      <th>...</th>\n",
       "      <td>...</td>\n",
       "      <td>...</td>\n",
       "    </tr>\n",
       "    <tr>\n",
       "      <th>342347</th>\n",
       "      <td>10969</td>\n",
       "      <td>4670</td>\n",
       "    </tr>\n",
       "    <tr>\n",
       "      <th>342348</th>\n",
       "      <td>6774</td>\n",
       "      <td>55748</td>\n",
       "    </tr>\n",
       "    <tr>\n",
       "      <th>342349</th>\n",
       "      <td>23299</td>\n",
       "      <td>399693</td>\n",
       "    </tr>\n",
       "    <tr>\n",
       "      <th>342350</th>\n",
       "      <td>9247</td>\n",
       "      <td>337967</td>\n",
       "    </tr>\n",
       "    <tr>\n",
       "      <th>342351</th>\n",
       "      <td>23193</td>\n",
       "      <td>7077</td>\n",
       "    </tr>\n",
       "  </tbody>\n",
       "</table>\n",
       "<p>342352 rows × 2 columns</p>\n",
       "</div>"
      ],
      "text/plain": [
       "          1394       2778\n",
       "0         6331      17999\n",
       "1       122704      54460\n",
       "2         2597       2911\n",
       "3         4790      79155\n",
       "4         6146  101929876\n",
       "...        ...        ...\n",
       "342347   10969       4670\n",
       "342348    6774      55748\n",
       "342349   23299     399693\n",
       "342350    9247     337967\n",
       "342351   23193       7077\n",
       "\n",
       "[342352 rows x 2 columns]"
      ]
     },
     "metadata": {},
     "execution_count": 3
    }
   ],
   "metadata": {}
  },
  {
   "cell_type": "code",
   "execution_count": 4,
   "source": [
    "edges = [(t,v) for t,v in df.values]"
   ],
   "outputs": [],
   "metadata": {}
  },
  {
   "cell_type": "code",
   "execution_count": 5,
   "source": [
    "#Build the graph\n",
    "G = net.Graph()"
   ],
   "outputs": [],
   "metadata": {}
  },
  {
   "cell_type": "code",
   "execution_count": 6,
   "source": [
    "G.add_edges_from(edges)"
   ],
   "outputs": [],
   "metadata": {}
  },
  {
   "cell_type": "code",
   "execution_count": 8,
   "source": [
    "###########################\n",
    "####Network plotting###########\n",
    "###TAKES LONG TO PLOT######\n",
    "###########################\n",
    "\n",
    "STOP = input('Do you really want to rerun the network graph? (y/n)')\n",
    "n\n",
    "\n",
    "if STOP =='y':\n",
    "    plt.figure(figsize = (10,10))\n",
    "    net.draw(G, pos = net.nx_pydot.graphviz_layout(G),node_size = 16,linewidths = 0.2)\n",
    "    plt.savefig(os.getcwd()+'/First graph.png')\n",
    "else:\n",
    "    print('Graph not rerun')\n",
    "\n"
   ],
   "outputs": [
    {
     "output_type": "stream",
     "name": "stdout",
     "text": [
      "Graph not rerun\n"
     ]
    }
   ],
   "metadata": {}
  },
  {
   "cell_type": "code",
   "execution_count": null,
   "source": [
    "def powerfit(x, y):\n",
    "    \"\"\"line fitting on log-log scale\"\"\"\n",
    "    m,b = np.polyfit(x, y, 1)\n",
    "    return m,b"
   ],
   "outputs": [],
   "metadata": {}
  },
  {
   "cell_type": "code",
   "execution_count": null,
   "source": [
    "degree_freq = net.degree_histogram(G)\n",
    "degrees = range(len(degree_freq))\n",
    "plt.figure(figsize=(8,8)) \n",
    "plt.loglog(degrees, degree_freq,'*') \n",
    "plt.xlabel('Degree',fontsize = 12)\n",
    "plt.ylabel('Frequency [number of users]', fontsize = 12)\n",
    "\n",
    "\n",
    "plt.savefig(os.getcwd()+'/distribution plot.png')\n"
   ],
   "outputs": [],
   "metadata": {}
  },
  {
   "cell_type": "code",
   "execution_count": null,
   "source": [
    "def powerfit(x, y):\n",
    "    \"\"\"line fitting on log-log scale\"\"\"\n",
    "    k, m = np.polyfit(np.log10(x), np.log10(y), 1)\n",
    "    return 10**m * x**(k),k"
   ],
   "outputs": [],
   "metadata": {}
  },
  {
   "cell_type": "code",
   "execution_count": null,
   "source": [
    "#Fit a power law to the data and get gamma coefficient\n",
    "\n",
    "\n",
    "degree_freq = net.degree_histogram(G)\n",
    "degrees = range(len(degree_freq))\n",
    "plt.figure(figsize=(8,8)) \n",
    "plt.loglog(degrees, degree_freq,'*') \n",
    "plt.xlabel('Degree',fontsize = 12)\n",
    "plt.ylabel('Frequency [number of users]', fontsize = 12)\n",
    "\n",
    "#Remove where degree freq is zero\n",
    "idxs = np.where(np.array(degree_freq) != 0)[0]\n",
    "degree_freq = list(map(degree_freq.__getitem__, idxs))\n",
    "degrees = list(map(degrees.__getitem__, idxs))\n",
    "\n",
    "ys,gamma = powerfit(degrees, degree_freq)\n",
    "\n",
    "plt.plot(degrees,ys,color='black')\n",
    "plt.legend(['Data','Power law fit'])\n",
    "plt.text(400,3000,r'$y = x^-\\gamma$\\n \\gamma = {}'.format(np.round(abs(gamma), decimals = 2)))\n",
    "\n",
    "print('gamma=',np.round(gamma, decimals = 2))\n",
    "\n",
    "\n",
    "\n",
    "plt.savefig(os.getcwd()+'/distribution plot with power law.png')"
   ],
   "outputs": [],
   "metadata": {}
  },
  {
   "cell_type": "code",
   "execution_count": null,
   "source": [],
   "outputs": [],
   "metadata": {}
  }
 ],
 "metadata": {
  "orig_nbformat": 4,
  "language_info": {
   "name": "python",
   "version": "3.9.7",
   "mimetype": "text/x-python",
   "codemirror_mode": {
    "name": "ipython",
    "version": 3
   },
   "pygments_lexer": "ipython3",
   "nbconvert_exporter": "python",
   "file_extension": ".py"
  },
  "kernelspec": {
   "name": "python3",
   "display_name": "Python 3.9.7 64-bit ('myenv': conda)"
  },
  "interpreter": {
   "hash": "16e8a9272d35cec8313862542dfe1d80e3bfd56785ad7085471e78132f2223f3"
  }
 },
 "nbformat": 4,
 "nbformat_minor": 2
}